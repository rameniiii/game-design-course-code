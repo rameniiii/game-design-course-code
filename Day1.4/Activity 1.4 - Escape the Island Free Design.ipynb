{
 "cells": [
  {
   "cell_type": "code",
   "execution_count": null,
   "metadata": {},
   "outputs": [],
   "source": []
  },
  {
   "cell_type": "markdown",
   "metadata": {},
   "source": [
    "# Activity 1.4 - Escape the Island Free Design\n",
    "\n",
    "This morning we learned all about Classes and Methods, and used them to build a very crude *Escape the Island* adventure game. I'm sure you have tons of ideas about how to make the game better, so now you'll get your chance to add whatever you want! But first, there's a few issues with the current code that need fixing:\n",
    "\n",
    "1. It doesn't error check entries! Add a way to make sure the code doesn't break when someone enters something unexpected...\n",
    "1. If we run out of encounters, we can't find any more loot... Change the code so we can continue to find food and water even after we've found all the other items at the tile (perhaps adding a random chance to find food and water at any tile, the probability of which you can customize).\n",
    "1. There is currently no way to win the game!! Add a win condition.\n",
    "\n",
    "Then, once you've fixed the above issues, feel free to extend the game in any way you like! Here's a few ideas to get you started:\n",
    "\n",
    "1. Improve the map: The Island Grid has 16 spaces. You could design 16 unique tiles for each of those spaces. Don't forget to include new dangers!\n",
    "1. Improved encounters: Maybe you want the game to be more interesting than static encounters. Perhaps you can make an Encounter class, that let's you do things in encounters like fight, flee, or explore (these sound like methods for the encounter)\n",
    "1. Improved items: Maybe certain items help you survive the island. Maybe if you find a specific combination of items you win the game and escape the island?\n",
    "1. Improved world: Add a story to the island that you discover as you explore. Perhaps you could include a 'survivor's journal' that you could copy this story into as you find it.\n",
    "\n",
    "If you come up with any other ideas on your own, feel free to implement them! In fact, we could even combine everyone's ideas together at the end to make an awesome game with all of these features.\n",
    "\n",
    "## We need a game controller...\n",
    "\n",
    "In order for this to work, we will need a loop to play our game. I've included a loop here that should work with the solution from today's lesson. We'll need to use our classes from today as well, so I've pasted them here, too.\n",
    "\n",
    "### Classes and Tiles from the morning lesson."
   ]
  },
  {
   "cell_type": "code",
   "execution_count": 11,
   "metadata": {},
   "outputs": [],
   "source": [
    "from IPython.display import clear_output\n",
    "import numpy as np\n",
    "\n",
    "class IslandTile:\n",
    "    \n",
    "    def __init__(self, name, items, encounters, description):\n",
    "        self.name = name\n",
    "        self.items = items\n",
    "        self.encounters = encounters\n",
    "        self.description = description\n",
    "        #Now variables that have default values\n",
    "        self.discovered = False\n",
    "        self.lootedItems = []     #By keeping track of these, we make\n",
    "        self.pastEncounters = []  #sure we don't find the same thing twice\n",
    "        \n",
    "    def enterTile(self):\n",
    "        #Your code here\n",
    "        if self.discovered:\n",
    "            print(\"You enter the \"+self.name)\n",
    "        else:\n",
    "            print(self.description)\n",
    "            self.discovered = True\n",
    "            \n",
    "    def leaveTile(self):\n",
    "        #Your code here\n",
    "        print(\"After a long day of searching, you leave \"+self.name+\" and head back to camp\")\n",
    "    \n",
    "    def search(self):\n",
    "        #your code here\n",
    "        encounter = None\n",
    "        loot = None\n",
    "        try:\n",
    "            encounter = self.encounters[np.random.randint(len(self.encounters))]\n",
    "            loot = self.items[np.random.randint(len(self.items))]\n",
    "        except:\n",
    "            print(\"The items you've collected on the island are strewn about your camp\")\n",
    "        else:\n",
    "            if encounter in self.pastEncounters:\n",
    "                encounter = None\n",
    "                loot = None\n",
    "            else:\n",
    "                self.pastEncounters.append(encounter)\n",
    "                if loot in self.lootedItems:\n",
    "                    loot = None\n",
    "                else:\n",
    "                    self.lootedItems.append(loot)\n",
    "        return loot, encounter"
   ]
  },
  {
   "cell_type": "code",
   "execution_count": 12,
   "metadata": {},
   "outputs": [],
   "source": [
    "#Make your IslandTiles here\n",
    "#Mr. McGoffin's tiles\n",
    "temple = IslandTile(\"the Temple\", (\"Golden Monkey Statuette\",) , (\"Boulder Trap\",), \"As you push your way through the thick vegetation, you stumble upon an ancient Temple standing stalwart in a small clearing. The area around the temple seems quiet. Too quiet...\")\n",
    "spring = IslandTile(\"the Spring\", (\"Water\", \"Water\", \"Water\", \"Food\"), (\"Crocodile\", \"Nothing\", \"Despair\", \"a small deer\"),\"The soft gurgle of water leads you up a small bluff to reveal a small spring, its waters bubbling out of the rocks.\")\n",
    "beach = IslandTile(\"the Beach\", (\"Sand\", \"More Sand\", \"Even More Sand\"), (\"Birds\", \"Crabs\", \"A Dead Fish\", \"A message in a bottle\", \"a beat up Practice Dummy\"), \"You emerge from the jungle onto the beach. 'If I weren't stuck here, this beach would be a beautiful place,' you think to yourself bitterly.\")\n",
    "ravine = IslandTile(\"the Ravine\", (\"the number 42\",),(\"Crumbling Cliffs\", \"Scenic views\", \"A fallen tree\",\"The meaning of life, the universe, and everything\"), \"There is barely any warning as you emerge from the jungle and find yourself facing a massive ravine. You look precariously over the edge, but it is so deep you cannot see the bottom\")\n",
    "camp = IslandTile(\"your campsite\",(),(),\"You are back at your meager camp\")"
   ]
  },
  {
   "cell_type": "markdown",
   "metadata": {},
   "source": [
    "### The controller to play the game"
   ]
  },
  {
   "cell_type": "code",
   "execution_count": 13,
   "metadata": {},
   "outputs": [
    {
     "output_type": "stream",
     "name": "stdout",
     "text": [
      "You have washed up on a Deserted Island! You must search the island for Food and Water to survive until rescue...\n",
      "Days on the deserted island: 0\n",
      "The soft gurgle of water leads you up a small bluff to reveal a small spring, its waters bubbling out of the rocks.\n",
      "You are eaten by a Crocodile\n",
      "Game over. You survived for 0 days.\n"
     ]
    }
   ],
   "source": [
    "import _src.desertedIsland\n",
    "import numpy as np\n",
    "from IPython.display import clear_output\n",
    "\n",
    "alive = True\n",
    "days = 0\n",
    "inventory = []\n",
    "\n",
    "#I've used a dictionary here to access the classes above by their names. This is called a map, and common in coding.\n",
    "island_map = {\"temple\": temple, \n",
    "               \"spring\": spring, \n",
    "               \"beach\": beach, \n",
    "               \"ravine\": ravine, \n",
    "               \"camp\": camp}\n",
    "\n",
    "while(alive):\n",
    "    if days == 0:\n",
    "        print(\"You have washed up on a Deserted Island! You must search the island for Food and Water to survive until rescue...\")\n",
    "    print(\"Days on the deserted island: \"+str(days))\n",
    "    \n",
    "    #Our code to search the Island goes here\n",
    "    tile = island_map[input(\"Where would you like to search today? (temple, spring, beach, ravine, camp): \")]\n",
    "    tile.enterTile()\n",
    "    loot, encounter = tile.search()\n",
    "\n",
    "    if encounter == \"Crocodile\":\n",
    "        alive = False\n",
    "        print(\"You are eaten by a Crocodile\")\n",
    "        continue\n",
    "    elif encounter == \"Crumbling Cliffs\":\n",
    "        alive = False\n",
    "        print(\"The cliffs below you crumble and you fall to your death\")\n",
    "        continue\n",
    "    \n",
    "    if encounter == None:\n",
    "        print(\"Your search yields nothing...\")\n",
    "    else:\n",
    "        if loot != None:\n",
    "            print(\"You encounter \"+str(encounter)+\" and find \"+str(loot))\n",
    "            inventory.append(loot)\n",
    "        else:\n",
    "            print(\"You encounter \"+str(encounter)+\" but find nothing...\")\n",
    "        \n",
    "    tile.leaveTile()\n",
    "        \n",
    "    #This is the start of our player input section. We'll modify this code to make the gameplay fun.\n",
    "    decision = input(\"Keep searching the Deserted Island? (Y/N) \")\n",
    "    clear_output()\n",
    "    if decision == 'quit':\n",
    "        break\n",
    "    elif decision == 'Y':\n",
    "        print(\"Good choice, maybe you'll survive another day.\")\n",
    "    elif decision == 'N':\n",
    "        print(\"Too bad! You're stuck here... Gotta keep searching.\")\n",
    "    else:\n",
    "        print(\"I didn't understand. Maybe you've been stuck on this Island for too long...\")\n",
    "    days += 1\n",
    "else:\n",
    "    print(\"Game over. You survived for \"+str(days)+\" days.\")"
   ]
  },
  {
   "cell_type": "markdown",
   "metadata": {},
   "source": [
    "### Copy/Paste the class and tiles from above to change them here. You can add any other classes you want as well"
   ]
  },
  {
   "cell_type": "code",
   "execution_count": null,
   "metadata": {},
   "outputs": [],
   "source": []
  }
 ],
 "metadata": {
  "kernelspec": {
   "name": "python3",
   "display_name": "Python 3.9.6 64-bit ('3.9')"
  },
  "language_info": {
   "codemirror_mode": {
    "name": "ipython",
    "version": 3
   },
   "file_extension": ".py",
   "mimetype": "text/x-python",
   "name": "python",
   "nbconvert_exporter": "python",
   "pygments_lexer": "ipython3",
   "version": "3.9.6"
  },
  "interpreter": {
   "hash": "7812ea015bdcee6f23a998adcdd2ef97c151c0c241b7b7070987d9313e41299d"
  }
 },
 "nbformat": 4,
 "nbformat_minor": 2
}